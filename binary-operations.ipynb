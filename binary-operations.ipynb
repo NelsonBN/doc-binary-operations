{
 "cells": [
  {
   "cell_type": "markdown",
   "metadata": {},
   "source": [
    "### Shift left (Multiplication by 2)"
   ]
  },
  {
   "cell_type": "code",
   "execution_count": 5,
   "metadata": {},
   "outputs": [
    {
     "name": "stdout",
     "output_type": "stream",
     "text": [
      "7\n",
      "0b111\n",
      "14\n",
      "0b1110\n"
     ]
    }
   ],
   "source": [
    "n = 7\n",
    "print(n)\n",
    "print(bin(n))\n",
    "print(n << 1)\n",
    "print(bin(n << 1))"
   ]
  },
  {
   "cell_type": "markdown",
   "metadata": {},
   "source": [
    "### Shift right (Division by 2)"
   ]
  },
  {
   "cell_type": "code",
   "execution_count": 6,
   "metadata": {},
   "outputs": [
    {
     "name": "stdout",
     "output_type": "stream",
     "text": [
      "18\n",
      "0b10010\n",
      "9\n",
      "0b1001\n"
     ]
    }
   ],
   "source": [
    "n = 18\n",
    "print(n)\n",
    "print(bin(n))\n",
    "print(n >> 1)\n",
    "print(bin(n >> 1))"
   ]
  },
  {
   "cell_type": "markdown",
   "metadata": {},
   "source": [
    "### Clean the lower set bits of a number"
   ]
  },
  {
   "cell_type": "code",
   "execution_count": 46,
   "metadata": {},
   "outputs": [
    {
     "name": "stdout",
     "output_type": "stream",
     "text": [
      "0b10100\n",
      "0b10000\n"
     ]
    }
   ],
   "source": [
    "n = 20\n",
    "print(bin(n))\n",
    "print(bin(n & (n-1)))\n"
   ]
  },
  {
   "cell_type": "markdown",
   "metadata": {},
   "source": [
    "### Extracts the lower set bits of a number (all others are cleared)"
   ]
  },
  {
   "cell_type": "code",
   "execution_count": 2,
   "metadata": {},
   "outputs": [
    {
     "name": "stdout",
     "output_type": "stream",
     "text": [
      "0b111001001011111000\n",
      "0b1000\n",
      "0b1000\n",
      "0b1000\n"
     ]
    }
   ],
   "source": [
    "n = 234232\n",
    "print(bin(n))\n",
    "print(bin(n & ~(n-1)))\n",
    "print(bin(n & (-n)))\n",
    "print(bin(n & (n*-1)))"
   ]
  }
 ],
 "metadata": {
  "kernelspec": {
   "display_name": "Python 3",
   "language": "python",
   "name": "python3"
  },
  "language_info": {
   "codemirror_mode": {
    "name": "ipython",
    "version": 3
   },
   "file_extension": ".py",
   "mimetype": "text/x-python",
   "name": "python",
   "nbconvert_exporter": "python",
   "pygments_lexer": "ipython3",
   "version": "3.12.0"
  }
 },
 "nbformat": 4,
 "nbformat_minor": 2
}
